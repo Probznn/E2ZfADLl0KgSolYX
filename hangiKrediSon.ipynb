{
 "cells": [
  {
   "cell_type": "code",
   "execution_count": 5,
   "metadata": {},
   "outputs": [],
   "source": [
    "import pandas as pd\n",
    "import matplotlib.pyplot as plt\n",
    "import seaborn as sns; sns.set()  # for plot styling\n",
    "import numpy as np\n",
    "from sklearn.cluster import KMeans\n",
    "import sklearn.metrics as sm"
   ]
  },
  {
   "cell_type": "code",
   "execution_count": 6,
   "metadata": {},
   "outputs": [
    {
     "name": "stdout",
     "output_type": "stream",
     "text": [
      "       age           job   marital  education default  balance housing loan  \\\n",
      "0       58    management   married   tertiary      no     2143     yes   no   \n",
      "1       44    technician    single  secondary      no       29     yes   no   \n",
      "2       33  entrepreneur   married  secondary      no        2     yes  yes   \n",
      "3       47   blue-collar   married    unknown      no     1506     yes   no   \n",
      "4       33       unknown    single    unknown      no        1      no   no   \n",
      "...    ...           ...       ...        ...     ...      ...     ...  ...   \n",
      "39995   53    technician   married   tertiary      no      395      no   no   \n",
      "39996   30    management    single   tertiary      no     3340      no   no   \n",
      "39997   54         admin  divorced  secondary      no      200      no   no   \n",
      "39998   34    management   married   tertiary      no     1047      no   no   \n",
      "39999   38    technician   married  secondary      no     1442     yes   no   \n",
      "\n",
      "        contact  day month  duration  campaign  y  \n",
      "0       unknown    5   may       261         1  0  \n",
      "1       unknown    5   may       151         1  0  \n",
      "2       unknown    5   may        76         1  0  \n",
      "3       unknown    5   may        92         1  0  \n",
      "4       unknown    5   may       198         1  0  \n",
      "...         ...  ...   ...       ...       ... ..  \n",
      "39995  cellular    3   jun       107         1  0  \n",
      "39996  cellular    3   jun       238         3  1  \n",
      "39997  cellular    3   jun       170         1  1  \n",
      "39998  cellular    3   jun       342         1  0  \n",
      "39999  cellular    3   jun       113         1  0  \n",
      "\n",
      "[40000 rows x 14 columns]\n"
     ]
    }
   ],
   "source": [
    "df=pd.read_excel(\"hangikredi.xlsx\")\n",
    "print(df)"
   ]
  },
  {
   "cell_type": "code",
   "execution_count": 7,
   "metadata": {},
   "outputs": [
    {
     "data": {
      "text/plain": [
       "Index(['age', 'job', 'marital', 'education', 'default', 'balance', 'housing',\n",
       "       'loan', 'contact', 'day', 'month', 'duration', 'campaign', 'y'],\n",
       "      dtype='object')"
      ]
     },
     "execution_count": 7,
     "metadata": {},
     "output_type": "execute_result"
    }
   ],
   "source": [
    "df.columns"
   ]
  },
  {
   "cell_type": "code",
   "execution_count": 8,
   "metadata": {},
   "outputs": [
    {
     "data": {
      "text/plain": [
       "array(['management', 'technician', 'entrepreneur', 'blue-collar',\n",
       "       'unknown', 'retired', 'admin', 'services', 'self-employed',\n",
       "       'unemployed', 'housemaid', 'student'], dtype=object)"
      ]
     },
     "execution_count": 8,
     "metadata": {},
     "output_type": "execute_result"
    }
   ],
   "source": [
    "df.job.unique()"
   ]
  },
  {
   "cell_type": "code",
   "execution_count": 9,
   "metadata": {
    "scrolled": true
   },
   "outputs": [
    {
     "name": "stdout",
     "output_type": "stream",
     "text": [
      "0        0\n",
      "1        1\n",
      "2        2\n",
      "3        3\n",
      "4        4\n",
      "        ..\n",
      "39995    1\n",
      "39996    0\n",
      "39997    6\n",
      "39998    0\n",
      "39999    1\n",
      "Name: job, Length: 40000, dtype: int64\n"
     ]
    }
   ],
   "source": [
    "df['job'] = pd.factorize(df['job'])[0]\n",
    "print(df['job'])"
   ]
  },
  {
   "cell_type": "code",
   "execution_count": 10,
   "metadata": {
    "scrolled": true
   },
   "outputs": [
    {
     "name": "stdout",
     "output_type": "stream",
     "text": [
      "0        0\n",
      "1        0\n",
      "2        0\n",
      "3        0\n",
      "4        0\n",
      "        ..\n",
      "39995    0\n",
      "39996    1\n",
      "39997    1\n",
      "39998    0\n",
      "39999    0\n",
      "Name: y, Length: 40000, dtype: int64\n"
     ]
    }
   ],
   "source": [
    "print(df['y'])"
   ]
  },
  {
   "cell_type": "code",
   "execution_count": 11,
   "metadata": {
    "scrolled": true
   },
   "outputs": [
    {
     "name": "stdout",
     "output_type": "stream",
     "text": [
      "0        0\n",
      "1        1\n",
      "2        0\n",
      "3        0\n",
      "4        1\n",
      "        ..\n",
      "39995    0\n",
      "39996    1\n",
      "39997    2\n",
      "39998    0\n",
      "39999    0\n",
      "Name: marital, Length: 40000, dtype: int64\n"
     ]
    }
   ],
   "source": [
    "df['y'] = pd.factorize(df['y'])[0]\n",
    "df.marital.unique()\n",
    "df['marital'] = pd.factorize(df['marital'])[0]\n",
    "print(df['marital'])"
   ]
  },
  {
   "cell_type": "code",
   "execution_count": 12,
   "metadata": {},
   "outputs": [
    {
     "data": {
      "text/plain": [
       "array(['tertiary', 'secondary', 'unknown', 'primary'], dtype=object)"
      ]
     },
     "execution_count": 12,
     "metadata": {},
     "output_type": "execute_result"
    }
   ],
   "source": [
    "df.education.unique()"
   ]
  },
  {
   "cell_type": "code",
   "execution_count": 13,
   "metadata": {
    "scrolled": true
   },
   "outputs": [
    {
     "name": "stdout",
     "output_type": "stream",
     "text": [
      "0        0\n",
      "1        1\n",
      "2        1\n",
      "3        2\n",
      "4        2\n",
      "        ..\n",
      "39995    0\n",
      "39996    0\n",
      "39997    1\n",
      "39998    0\n",
      "39999    1\n",
      "Name: education, Length: 40000, dtype: int64\n"
     ]
    }
   ],
   "source": [
    "df['education'] = pd.factorize(df['education'])[0]\n",
    "print(df['education'])"
   ]
  },
  {
   "cell_type": "code",
   "execution_count": 14,
   "metadata": {},
   "outputs": [
    {
     "data": {
      "text/plain": [
       "array(['unknown', 'cellular', 'telephone'], dtype=object)"
      ]
     },
     "execution_count": 14,
     "metadata": {},
     "output_type": "execute_result"
    }
   ],
   "source": [
    "df.contact.unique()\n"
   ]
  },
  {
   "cell_type": "code",
   "execution_count": 15,
   "metadata": {
    "scrolled": true
   },
   "outputs": [
    {
     "name": "stdout",
     "output_type": "stream",
     "text": [
      "0        0\n",
      "1        0\n",
      "2        0\n",
      "3        0\n",
      "4        0\n",
      "        ..\n",
      "39995    1\n",
      "39996    1\n",
      "39997    1\n",
      "39998    1\n",
      "39999    1\n",
      "Name: contact, Length: 40000, dtype: int64\n"
     ]
    }
   ],
   "source": [
    "df['contact'] = pd.factorize(df['contact'])[0]\n",
    "print(df['contact'])"
   ]
  },
  {
   "cell_type": "code",
   "execution_count": 16,
   "metadata": {
    "scrolled": false
   },
   "outputs": [
    {
     "data": {
      "text/plain": [
       "array(['may', 'jun', 'jul', 'aug', 'oct', 'nov', 'dec', 'jan', 'feb',\n",
       "       'mar', 'apr'], dtype=object)"
      ]
     },
     "execution_count": 16,
     "metadata": {},
     "output_type": "execute_result"
    }
   ],
   "source": [
    "df.month.unique()"
   ]
  },
  {
   "cell_type": "code",
   "execution_count": 17,
   "metadata": {
    "scrolled": true
   },
   "outputs": [
    {
     "name": "stdout",
     "output_type": "stream",
     "text": [
      "0        0\n",
      "1        0\n",
      "2        0\n",
      "3        0\n",
      "4        0\n",
      "        ..\n",
      "39995    1\n",
      "39996    1\n",
      "39997    1\n",
      "39998    1\n",
      "39999    1\n",
      "Name: month, Length: 40000, dtype: int64\n"
     ]
    }
   ],
   "source": [
    "\n",
    "df['month'] = pd.factorize(df['month'])[0]\n",
    "print(df['month'])"
   ]
  },
  {
   "cell_type": "code",
   "execution_count": 18,
   "metadata": {
    "scrolled": true
   },
   "outputs": [
    {
     "data": {
      "image/png": "[encoded data removed]",
      "text/plain": [
       "<Figure size 432x288 with 2 Axes>"
      ]
     },
     "metadata": {},
     "output_type": "display_data"
    },
    {
     "data": {
      "text/html": [
       "<div>\n",
       "<style scoped>\n",
       "    .dataframe tbody tr th:only-of-type {\n",
       "        vertical-align: middle;\n",
       "    }\n",
       "\n",
       "    .dataframe tbody tr th {\n",
       "        vertical-align: top;\n",
       "    }\n",
       "\n",
       "    .dataframe thead th {\n",
       "        text-align: right;\n",
       "    }\n",
       "</style>\n",
       "<table border=\"1\" class=\"dataframe\">\n",
       "  <thead>\n",
       "    <tr style=\"text-align: right;\">\n",
       "      <th></th>\n",
       "      <th>y</th>\n",
       "    </tr>\n",
       "  </thead>\n",
       "  <tbody>\n",
       "    <tr>\n",
       "      <th>duration</th>\n",
       "      <td>0.461169</td>\n",
       "    </tr>\n",
       "    <tr>\n",
       "      <th>month</th>\n",
       "      <td>0.106168</td>\n",
       "    </tr>\n",
       "    <tr>\n",
       "      <th>contact</th>\n",
       "      <td>0.073784</td>\n",
       "    </tr>\n",
       "    <tr>\n",
       "      <th>marital</th>\n",
       "      <td>0.046550</td>\n",
       "    </tr>\n",
       "    <tr>\n",
       "      <th>balance</th>\n",
       "      <td>0.030232</td>\n",
       "    </tr>\n",
       "    <tr>\n",
       "      <th>job</th>\n",
       "      <td>0.002158</td>\n",
       "    </tr>\n",
       "    <tr>\n",
       "      <th>day</th>\n",
       "      <td>-0.006420</td>\n",
       "    </tr>\n",
       "    <tr>\n",
       "      <th>age</th>\n",
       "      <td>-0.020273</td>\n",
       "    </tr>\n",
       "    <tr>\n",
       "      <th>campaign</th>\n",
       "      <td>-0.040350</td>\n",
       "    </tr>\n",
       "    <tr>\n",
       "      <th>education</th>\n",
       "      <td>-0.043219</td>\n",
       "    </tr>\n",
       "  </tbody>\n",
       "</table>\n",
       "</div>"
      ],
      "text/plain": [
       "                  y\n",
       "duration   0.461169\n",
       "month      0.106168\n",
       "contact    0.073784\n",
       "marital    0.046550\n",
       "balance    0.030232\n",
       "job        0.002158\n",
       "day       -0.006420\n",
       "age       -0.020273\n",
       "campaign  -0.040350\n",
       "education -0.043219"
      ]
     },
     "execution_count": 18,
     "metadata": {},
     "output_type": "execute_result"
    }
   ],
   "source": [
    "correlation_matrix = df.corr(method='pearson')\n",
    "correlation_matrix\n",
    "import seaborn as maps\n",
    "maps.heatmap(correlation_matrix, vmax = .8, square = True)\n",
    "plt.show()\n",
    "corr_left=pd.DataFrame(correlation_matrix['y'].drop('y').sort_values(ascending=False))\n",
    "corr_left"
   ]
  },
  {
   "cell_type": "code",
   "execution_count": 19,
   "metadata": {},
   "outputs": [],
   "source": [
    "df.dropna(subset = [\"day\"], inplace=True)"
   ]
  },
  {
   "cell_type": "code",
   "execution_count": 20,
   "metadata": {
    "scrolled": true
   },
   "outputs": [
    {
     "data": {
      "text/plain": [
       "age          False\n",
       "job          False\n",
       "marital      False\n",
       "education    False\n",
       "default      False\n",
       "balance      False\n",
       "housing      False\n",
       "loan         False\n",
       "contact      False\n",
       "day          False\n",
       "month        False\n",
       "duration     False\n",
       "campaign     False\n",
       "y            False\n",
       "dtype: bool"
      ]
     },
     "execution_count": 20,
     "metadata": {},
     "output_type": "execute_result"
    }
   ],
   "source": [
    "df.isna().any()"
   ]
  },
  {
   "cell_type": "code",
   "execution_count": 21,
   "metadata": {},
   "outputs": [],
   "source": [
    "del df['day']"
   ]
  },
  {
   "cell_type": "code",
   "execution_count": 22,
   "metadata": {},
   "outputs": [
    {
     "data": {
      "text/plain": [
       "age          False\n",
       "job          False\n",
       "marital      False\n",
       "education    False\n",
       "default      False\n",
       "balance      False\n",
       "housing      False\n",
       "loan         False\n",
       "contact      False\n",
       "month        False\n",
       "duration     False\n",
       "campaign     False\n",
       "y            False\n",
       "dtype: bool"
      ]
     },
     "execution_count": 22,
     "metadata": {},
     "output_type": "execute_result"
    }
   ],
   "source": [
    "df.isna().any()"
   ]
  },
  {
   "cell_type": "code",
   "execution_count": 23,
   "metadata": {},
   "outputs": [
    {
     "data": {
      "text/plain": [
       "array([58, 44, 33, 47, 35, 28, 42, 43, 41, 29, 53, 57, 51, 45, 60, 56, 32,\n",
       "       25, 40, 39, 52, 46, 36, 49, 59, 37, 50, 54, 55, 48, 24, 38, 31, 30,\n",
       "       27, 34, 23, 26, 61, 22, 21, 20, 66, 62, 83, 75, 67, 70, 65, 68, 64,\n",
       "       69, 72, 71, 19, 76, 85, 63, 90, 82, 73, 74, 78, 80, 94, 79, 77, 86,\n",
       "       95, 81])"
      ]
     },
     "execution_count": 23,
     "metadata": {},
     "output_type": "execute_result"
    }
   ],
   "source": [
    "df.age.unique()"
   ]
  },
  {
   "cell_type": "code",
   "execution_count": 24,
   "metadata": {},
   "outputs": [],
   "source": [
    "del df['month']"
   ]
  },
  {
   "cell_type": "code",
   "execution_count": 25,
   "metadata": {},
   "outputs": [
    {
     "name": "stdout",
     "output_type": "stream",
     "text": [
      "0        0\n",
      "1        0\n",
      "2        0\n",
      "3        0\n",
      "4        0\n",
      "        ..\n",
      "39995    0\n",
      "39996    1\n",
      "39997    1\n",
      "39998    0\n",
      "39999    0\n",
      "Name: y, Length: 40000, dtype: int64\n"
     ]
    }
   ],
   "source": [
    "print(df['y'])"
   ]
  },
  {
   "cell_type": "code",
   "execution_count": 26,
   "metadata": {
    "scrolled": true
   },
   "outputs": [
    {
     "name": "stdout",
     "output_type": "stream",
     "text": [
      "<class 'numpy.int64'>\n"
     ]
    }
   ],
   "source": [
    "print(type(df['y'][0]))"
   ]
  },
  {
   "cell_type": "code",
   "execution_count": 27,
   "metadata": {},
   "outputs": [
    {
     "name": "stdout",
     "output_type": "stream",
     "text": [
      "       age  job  marital  education default  balance housing loan  contact  \\\n",
      "0       58    0        0          0      no     2143     yes   no        0   \n",
      "1       44    1        1          1      no       29     yes   no        0   \n",
      "2       33    2        0          1      no        2     yes  yes        0   \n",
      "3       47    3        0          2      no     1506     yes   no        0   \n",
      "4       33    4        1          2      no        1      no   no        0   \n",
      "...    ...  ...      ...        ...     ...      ...     ...  ...      ...   \n",
      "39995   53    1        0          0      no      395      no   no        1   \n",
      "39996   30    0        1          0      no     3340      no   no        1   \n",
      "39997   54    6        2          1      no      200      no   no        1   \n",
      "39998   34    0        0          0      no     1047      no   no        1   \n",
      "39999   38    1        0          1      no     1442     yes   no        1   \n",
      "\n",
      "       duration  campaign  y  \n",
      "0           261         1  0  \n",
      "1           151         1  0  \n",
      "2            76         1  0  \n",
      "3            92         1  0  \n",
      "4           198         1  0  \n",
      "...         ...       ... ..  \n",
      "39995       107         1  0  \n",
      "39996       238         3  1  \n",
      "39997       170         1  1  \n",
      "39998       342         1  0  \n",
      "39999       113         1  0  \n",
      "\n",
      "[40000 rows x 12 columns]\n"
     ]
    }
   ],
   "source": [
    "print(df)"
   ]
  },
  {
   "cell_type": "code",
   "execution_count": 28,
   "metadata": {},
   "outputs": [],
   "source": [
    "df['default'] = pd.factorize(df['default'])[0]\n",
    "df['housing'] = pd.factorize(df['housing'])[0]\n",
    "df['y'] = pd.factorize(df['y'])[0]\n",
    "df['loan'] = pd.factorize(df['loan'])[0]"
   ]
  },
  {
   "cell_type": "code",
   "execution_count": 29,
   "metadata": {},
   "outputs": [],
   "source": [
    "from sklearn.model_selection import train_test_split\n",
    "\n",
    "from sklearn.neighbors import KNeighborsClassifier\n",
    "from sklearn.tree import DecisionTreeClassifier\n",
    "from sklearn.naive_bayes import MultinomialNB\n",
    "from sklearn.svm import SVC\n",
    "from sklearn.ensemble import VotingClassifier\n",
    "from sklearn import model_selection, linear_model\n",
    "from sklearn.metrics import accuracy_score\n",
    "from sklearn.model_selection import cross_val_predict\n",
    "from sklearn import metrics\n"
   ]
  },
  {
   "cell_type": "code",
   "execution_count": 32,
   "metadata": {},
   "outputs": [
    {
     "name": "stdout",
     "output_type": "stream",
     "text": [
      "\n",
      "Metric for KNN\n",
      "              precision    recall  f1-score   support\n",
      "\n",
      "           0       0.94      0.97      0.96     33383\n",
      "           1       0.42      0.27      0.33      2617\n",
      "\n",
      "    accuracy                           0.92     36000\n",
      "   macro avg       0.68      0.62      0.64     36000\n",
      "weighted avg       0.91      0.92      0.91     36000\n",
      "\n",
      "\n",
      "Cross validation scores:  0.9196388888888889\n",
      "Accuracy score for KNN 0.91875\n",
      "\n",
      "Metric for DT\n",
      "              precision    recall  f1-score   support\n",
      "\n",
      "           0       0.95      0.94      0.95     33383\n",
      "           1       0.32      0.35      0.34      2617\n",
      "\n",
      "    accuracy                           0.90     36000\n",
      "   macro avg       0.64      0.65      0.64     36000\n",
      "weighted avg       0.90      0.90      0.90     36000\n",
      "\n",
      "\n",
      "Cross validation scores:  0.8993888888888888\n",
      "Accuracy score for DT 0.90325\n"
     ]
    }
   ],
   "source": [
    "classifiers = [[\"KNN\", KNeighborsClassifier(n_neighbors=3, weights='distance')],\n",
    "               [\"DT\", DecisionTreeClassifier(random_state=0)],\n",
    "              ]\n",
    "\n",
    "classifier_types = []\n",
    "for name, clf in classifiers:\n",
    "    print('\\nMetric for ' + name)\n",
    "    cv_predicted = cross_val_predict(clf, X_train, Y_train, cv=5)\n",
    "    print( metrics.classification_report(Y_train, cv_predicted))\n",
    "\n",
    "    scores = model_selection.cross_val_score(clf, X_train, Y_train)\n",
    "    print('\\nCross validation scores: ', scores.mean())\n",
    "    clf.fit(X_train, Y_train)\n",
    "    predictions = clf.predict(X_test)\n",
    "    print('Accuracy score for ' + name, accuracy_score(Y_test, predictions))\n",
    "    classifier_types.append((name, clf))"
   ]
  },
  {
   "cell_type": "code",
   "execution_count": 34,
   "metadata": {},
   "outputs": [
    {
     "name": "stdout",
     "output_type": "stream",
     "text": [
      "\n",
      "Cross validation scores:  0.9273055555555555\n",
      "Accuracy score for DT 0.93025\n"
     ]
    }
   ],
   "source": [
    "from sklearn.tree import DecisionTreeClassifier\n",
    "from sklearn.metrics import accuracy_score\n",
    "feature_names = list(df.drop('y', axis = 1).axes[1])\n",
    "labels = np.where(df['y'] == 1, 1, 0)\n",
    "label_names = np.unique(labels)\n",
    "\n",
    "from sklearn.model_selection import train_test_split\n",
    "features = df.drop('y', axis = 1).to_numpy().astype(np.float)\n",
    "label_names = np.unique(labels)\n",
    "feature_names = list(df.drop('y', axis = 1).axes[1])\n",
    "X_train, X_test, Y_train, Y_test = train_test_split(features, labels, test_size=0.1, random_state=0)\n",
    "\n",
    "from sklearn import model_selection\n",
    "from sklearn.tree import export_graphviz\n",
    "from sklearn import tree\n",
    "clf = DecisionTreeClassifier(max_depth=5, min_impurity_decrease=1e-02)\n",
    "clf = clf.fit(X_train, Y_train)\n",
    "tree.export_graphviz(clf, out_file='tree.dot')\n",
    "\n",
    "import pydotplus\n",
    "dot_data = tree.export_graphviz(clf, out_file=None)\n",
    "graph = pydotplus.graph_from_dot_data(dot_data)\n",
    "graph.write_pdf(\"tree.pdf\")\n",
    "\n",
    "from IPython.display import Image\n",
    "dot_data = tree.export_graphviz(clf, out_file=None,\n",
    "                         feature_names=feature_names,\n",
    "                         class_names=str(label_names),\n",
    "                         filled=True, rounded=True,\n",
    "                         special_characters=True\n",
    "                         )\n",
    "graph = pydotplus.graph_from_dot_data(dot_data)\n",
    "graph.write_pdf(\"coloured_tree.pdf\")\n",
    "scores = model_selection.cross_val_score(clf, X_train, Y_train)\n",
    "print('\\nCross validation scores: ', scores.mean())\n",
    "clf.fit(X_train, Y_train)\n",
    "predictions = clf.predict(X_test)\n",
    "print('Accuracy score for ' + name, accuracy_score(Y_test, predictions))"
   ]
  },
  {
   "cell_type": "code",
   "execution_count": null,
   "metadata": {},
   "outputs": [],
   "source": []
  }
 ],
 "metadata": {
  "kernelspec": {
   "display_name": "Python 3",
   "language": "python",
   "name": "python3"
  },
  "language_info": {
   "codemirror_mode": {
    "name": "ipython",
    "version": 3
   },
   "file_extension": ".py",
   "mimetype": "text/x-python",
   "name": "python",
   "nbconvert_exporter": "python",
   "pygments_lexer": "ipython3",
   "version": "3.7.6"
  }
 },
 "nbformat": 4,
 "nbformat_minor": 2
}
